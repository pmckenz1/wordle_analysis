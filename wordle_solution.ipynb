{
 "cells": [
  {
   "cell_type": "markdown",
   "id": "eba53430",
   "metadata": {},
   "source": [
    "# Demonstrating a foolproof Wordle solution -- no luck involved!"
   ]
  },
  {
   "cell_type": "markdown",
   "id": "bbca18a5",
   "metadata": {},
   "source": [
    "This demonstration is a fun timewaster to contribute to the annals of Wordle theory. The takeaway? **There is at least one \"foolproof\" method of solving any Wordle puzzle in six guesses.** Of course, there are probably many more -- including probably a bunch that are way more efficient. But I'll save that for another day."
   ]
  },
  {
   "cell_type": "markdown",
   "id": "17c3745b",
   "metadata": {},
   "source": [
    "### Import required packages"
   ]
  },
  {
   "cell_type": "code",
   "execution_count": 1,
   "id": "62ab10f3",
   "metadata": {},
   "outputs": [],
   "source": [
    "import numpy as np\n",
    "import pandas as pd\n",
    "import toyplot"
   ]
  },
  {
   "cell_type": "markdown",
   "id": "295321ac",
   "metadata": {},
   "source": [
    "# Get our data -- possible target words"
   ]
  },
  {
   "cell_type": "markdown",
   "id": "a1a50957",
   "metadata": {},
   "source": [
    "### Read in the list of target words"
   ]
  },
  {
   "cell_type": "code",
   "execution_count": 2,
   "id": "5fa07612",
   "metadata": {},
   "outputs": [],
   "source": [
    "# read list as np array\n",
    "possible_targets = np.array(pd.read_csv('./official_answer_list.csv')['words'])\n",
    "# put the list in alphabetical order a -> z\n",
    "possible_targets.sort()"
   ]
  },
  {
   "cell_type": "code",
   "execution_count": 3,
   "id": "e66aa870",
   "metadata": {},
   "outputs": [
    {
     "data": {
      "text/plain": [
       "array([['a', 'b', 'a', 'c', 'k'],\n",
       "       ['a', 'b', 'a', 's', 'e'],\n",
       "       ['a', 'b', 'a', 't', 'e'],\n",
       "       ...,\n",
       "       ['z', 'e', 'b', 'r', 'a'],\n",
       "       ['z', 'e', 's', 't', 'y'],\n",
       "       ['z', 'o', 'n', 'a', 'l']], dtype='<U1')"
      ]
     },
     "execution_count": 3,
     "metadata": {},
     "output_type": "execute_result"
    }
   ],
   "source": [
    "# split each word into an array of individual letters\n",
    "possible_targets_split = np.array([[i for i in q] for q in possible_targets])\n",
    "possible_targets_split"
   ]
  },
  {
   "cell_type": "code",
   "execution_count": 4,
   "id": "f69ff4ee",
   "metadata": {},
   "outputs": [
    {
     "data": {
      "text/plain": [
       "2315"
      ]
     },
     "execution_count": 4,
     "metadata": {},
     "output_type": "execute_result"
    }
   ],
   "source": [
    "# how many possible guesses are there?\n",
    "len(possible_targets_split)"
   ]
  },
  {
   "cell_type": "markdown",
   "id": "2b544b71",
   "metadata": {},
   "source": [
    "# Define functions for \"playing\" Wordle:"
   ]
  },
  {
   "cell_type": "markdown",
   "id": "b44166ee",
   "metadata": {},
   "source": [
    "The \"get_hints\" function was taking me a while to code, so rather than reinventing the wheel I copied in code by Dominic Fox. Thanks Dominic!  \n",
    "\n",
    "**See Dominic's blog post on \"Playing Wordle with Python\": https://poetix.medium.com/playing-wordle-with-python-6750185ac168**"
   ]
  },
  {
   "cell_type": "code",
   "execution_count": 5,
   "id": "30524f1c",
   "metadata": {},
   "outputs": [],
   "source": [
    "def get_letter_counts(word):\n",
    "    '''\n",
    "    ~utility function~\n",
    "    simply counts the number of time each letter occurs in a word\n",
    "    '''\n",
    "    result = dict()\n",
    "    for c in word:\n",
    "        result[c] = result.get(c, 0) + 1\n",
    "    return result\n",
    "\n",
    "\n",
    "def get_hints(target_word, guess):\n",
    "    '''\n",
    "    gets wordle-coded hints for each submission!\n",
    "    \"g\": letter is in the word and in the right position\n",
    "    \"y\": letter is in the word but in the wrong position\n",
    "    \".\": letter is either not in the word, or is used more times in the guess than in the target.\n",
    "    '''\n",
    "    letter_counts = get_letter_counts(target_word)\n",
    "    green_counts = dict()\n",
    "    for position, guess_letter in enumerate(guess):\n",
    "        if target_word[position] == guess_letter:\n",
    "            green_counts[guess_letter] = green_counts.get(guess_letter, 0) + 1\n",
    "\n",
    "    available_for_yellow = {letter: count - green_counts.get(letter, 0) for letter, count in letter_counts.items()}\n",
    "\n",
    "    for position, guess_letter in enumerate(guess):\n",
    "        if guess_letter in target_word:\n",
    "            if target_word[position] == guess_letter:\n",
    "                yield 'g', position, guess_letter\n",
    "            else:\n",
    "                if available_for_yellow[guess_letter] > 0:\n",
    "                    available_for_yellow[guess_letter] -= 1\n",
    "                    yield 'y', position, guess_letter\n",
    "                else:\n",
    "                    yield '.', position, guess_letter\n",
    "        else:\n",
    "            yield '.', position, guess_letter\n",
    "\n",
    "            \n",
    "def concise_hints(target_word, guess):\n",
    "    '''\n",
    "    just simplifying the output of Dominic Fox's \"get_hints\" function\n",
    "    '''\n",
    "    return(np.array([i[0] for i in get_hints(target_word,guess)]))\n",
    "\n",
    "\n",
    "def reduce_list(remaining_answers_starter, guess, hints):\n",
    "    '''\n",
    "    Accepts the array of possible remaining target words, the current guess, and \n",
    "        the wordle hints from the current guess.\n",
    "    Returns a new list of remaining answers that are compatible with the current guess.\n",
    "    '''\n",
    "    guess_split = np.array([i for i in guess])\n",
    "    remaining_answers = remaining_answers_starter.copy()#ans_list_split.copy()\n",
    "    for hintidx in range(5):\n",
    "        guesslet = guess_split[hintidx]\n",
    "        guesshint = hints[hintidx]\n",
    "        if guesshint == 'g':\n",
    "            remaining_answers = remaining_answers[remaining_answers[:,hintidx] == guesslet]\n",
    "    for hintidx in range(5):\n",
    "        guesslet = guess_split[hintidx]\n",
    "        guesshint = hints[hintidx]\n",
    "        if guesshint == 'y':\n",
    "            remaining_answers = remaining_answers[remaining_answers[:,hintidx] != guesslet]\n",
    "            remaining_answers = remaining_answers[[guesslet in i for i in remaining_answers[:,hints!='g']]]\n",
    "    for hintidx in range(5):\n",
    "        guesslet = guess_split[hintidx]\n",
    "        guesshint = hints[hintidx]\n",
    "        if guesshint == '.':\n",
    "            num_more_than = np.sum(guess_split[hints!='.'] == guesslet)\n",
    "            remaining_answers = remaining_answers[~(np.sum([i == guesslet for i in remaining_answers],axis=1) > num_more_than)]\n",
    "    return(remaining_answers)"
   ]
  },
  {
   "cell_type": "markdown",
   "id": "be2f1c59",
   "metadata": {},
   "source": [
    "# Demonstrate \"playing\" Wordle:"
   ]
  },
  {
   "cell_type": "markdown",
   "id": "93bb7252",
   "metadata": {},
   "source": [
    "First set a (pretending to be unknown) target word -- this is what we are trying to guess."
   ]
  },
  {
   "cell_type": "code",
   "execution_count": 6,
   "id": "ba5e67a4",
   "metadata": {},
   "outputs": [],
   "source": [
    "target_word = \"point\""
   ]
  },
  {
   "cell_type": "markdown",
   "id": "77bc91f9",
   "metadata": {},
   "source": [
    "Now initialize a list of \"remaining possible target words\" that we will pare down."
   ]
  },
  {
   "cell_type": "code",
   "execution_count": 7,
   "id": "9bb142da",
   "metadata": {},
   "outputs": [
    {
     "data": {
      "text/plain": [
       "2315"
      ]
     },
     "execution_count": 7,
     "metadata": {},
     "output_type": "execute_result"
    }
   ],
   "source": [
    "remaining_targets_arr = possible_targets_split.copy()\n",
    "len(remaining_targets_arr)"
   ]
  },
  {
   "cell_type": "markdown",
   "id": "953b4acb",
   "metadata": {},
   "source": [
    "### First guess:"
   ]
  },
  {
   "cell_type": "code",
   "execution_count": 8,
   "id": "424949fc",
   "metadata": {},
   "outputs": [
    {
     "data": {
      "text/plain": [
       "array(['y', '.', 'y', '.', '.'], dtype='<U1')"
      ]
     },
     "execution_count": 8,
     "metadata": {},
     "output_type": "execute_result"
    }
   ],
   "source": [
    "# input the guess to get hints from Wordle\n",
    "guess = \"taper\"\n",
    "hint = concise_hints(target_word,guess)\n",
    "hint"
   ]
  },
  {
   "cell_type": "markdown",
   "id": "a77f7242",
   "metadata": {},
   "source": [
    "This output tells us that the first and third letters -- \"t\" and \"p\" -- are both in the target word but at different positions, and the the other letters -- \"a\", \"e\", and \"r\" -- are not in the target word."
   ]
  },
  {
   "cell_type": "markdown",
   "id": "7e8455d0",
   "metadata": {},
   "source": [
    "Now we can use the `reduce_list` function to pare down our array of possible target words to only those that meet these criteria:"
   ]
  },
  {
   "cell_type": "code",
   "execution_count": 9,
   "id": "a0fe1c5d",
   "metadata": {},
   "outputs": [
    {
     "data": {
      "text/plain": [
       "array([['o', 'p', 't', 'i', 'c'],\n",
       "       ['p', 'h', 'o', 't', 'o'],\n",
       "       ['p', 'i', 'l', 'o', 't'],\n",
       "       ['p', 'i', 'n', 't', 'o'],\n",
       "       ['p', 'i', 't', 'c', 'h'],\n",
       "       ['p', 'i', 't', 'h', 'y'],\n",
       "       ['p', 'i', 'v', 'o', 't'],\n",
       "       ['p', 'o', 'i', 'n', 't'],\n",
       "       ['p', 'o', 's', 'i', 't'],\n",
       "       ['p', 'o', 'u', 't', 'y'],\n",
       "       ['p', 'u', 't', 't', 'y'],\n",
       "       ['s', 'p', 'i', 'l', 't'],\n",
       "       ['s', 'p', 'l', 'i', 't'],\n",
       "       ['s', 'p', 'o', 'u', 't'],\n",
       "       ['s', 't', 'o', 'm', 'p'],\n",
       "       ['s', 't', 'o', 'o', 'p'],\n",
       "       ['s', 't', 'u', 'm', 'p']], dtype='<U1')"
      ]
     },
     "execution_count": 9,
     "metadata": {},
     "output_type": "execute_result"
    }
   ],
   "source": [
    "remaining_targets_arr = reduce_list(remaining_targets_arr,guess,hint)\n",
    "remaining_targets_arr"
   ]
  },
  {
   "cell_type": "markdown",
   "id": "122c7e9c",
   "metadata": {},
   "source": [
    "So after our first guess, we are left with only 17 possible words!"
   ]
  },
  {
   "cell_type": "markdown",
   "id": "7eb85c7e",
   "metadata": {},
   "source": [
    "### Second guess:"
   ]
  },
  {
   "cell_type": "code",
   "execution_count": 10,
   "id": "2d7d51a7",
   "metadata": {},
   "outputs": [
    {
     "data": {
      "text/plain": [
       "array(['g', 'y', 'y', '.', '.'], dtype='<U1')"
      ]
     },
     "execution_count": 10,
     "metadata": {},
     "output_type": "execute_result"
    }
   ],
   "source": [
    "guess = \"pitch\"\n",
    "hint = concise_hints(target_word,guess)\n",
    "hint"
   ]
  },
  {
   "cell_type": "code",
   "execution_count": 11,
   "id": "3a15bcf9",
   "metadata": {},
   "outputs": [
    {
     "data": {
      "text/plain": [
       "array([['p', 'o', 'i', 'n', 't'],\n",
       "       ['p', 'o', 's', 'i', 't']], dtype='<U1')"
      ]
     },
     "execution_count": 11,
     "metadata": {},
     "output_type": "execute_result"
    }
   ],
   "source": [
    "remaining_targets_arr = reduce_list(remaining_targets_arr,guess,hint)\n",
    "remaining_targets_arr"
   ]
  },
  {
   "cell_type": "markdown",
   "id": "72455669",
   "metadata": {},
   "source": [
    "### Third guess:"
   ]
  },
  {
   "cell_type": "code",
   "execution_count": 12,
   "id": "d2344ee7",
   "metadata": {},
   "outputs": [
    {
     "data": {
      "text/plain": [
       "array(['g', 'g', '.', 'y', 'g'], dtype='<U1')"
      ]
     },
     "execution_count": 12,
     "metadata": {},
     "output_type": "execute_result"
    }
   ],
   "source": [
    "guess = \"posit\"\n",
    "hint = concise_hints(target_word,guess)\n",
    "hint"
   ]
  },
  {
   "cell_type": "code",
   "execution_count": 13,
   "id": "5dac6309",
   "metadata": {},
   "outputs": [
    {
     "data": {
      "text/plain": [
       "array([['p', 'o', 'i', 'n', 't']], dtype='<U1')"
      ]
     },
     "execution_count": 13,
     "metadata": {},
     "output_type": "execute_result"
    }
   ],
   "source": [
    "remaining_targets_arr = reduce_list(remaining_targets_arr,guess,hint)\n",
    "remaining_targets_arr"
   ]
  },
  {
   "cell_type": "markdown",
   "id": "04674f2b",
   "metadata": {},
   "source": [
    "### Once the `remaining_targets_arr` is down to just a single element, we have won the game!"
   ]
  },
  {
   "cell_type": "markdown",
   "id": "c5e0c7c2",
   "metadata": {},
   "source": [
    "# Demonstrate the foolproof method:"
   ]
  },
  {
   "cell_type": "markdown",
   "id": "3727c703",
   "metadata": {},
   "source": [
    "For any given puzzle, we will guess: 'sprug', 'blawn', 'mythi', and 'coved'. Then, if there is more than one word left in the array of remaining possible targets -- which is **already alphabetically sorted** -- then we will simply guess the first word."
   ]
  },
  {
   "cell_type": "markdown",
   "id": "fc5ed230",
   "metadata": {},
   "source": [
    "Let's try it on the target word from January 9, 2022: **GORGE**"
   ]
  },
  {
   "cell_type": "markdown",
   "id": "d7445eb6",
   "metadata": {},
   "source": [
    "### First, guess all four starter words:"
   ]
  },
  {
   "cell_type": "code",
   "execution_count": 14,
   "id": "67b1ce1f",
   "metadata": {},
   "outputs": [
    {
     "name": "stdout",
     "output_type": "stream",
     "text": [
      "Number of possible solutions remaining: 13\n",
      "    Guesses left: 5\n",
      "Number of possible solutions remaining: 8\n",
      "    Guesses left: 4\n",
      "Number of possible solutions remaining: 4\n",
      "    Guesses left: 3\n",
      "Number of possible solutions remaining: 2\n",
      "    Guesses left: 2\n"
     ]
    }
   ],
   "source": [
    "# initialize with the target word and full list of possible solutions\n",
    "target_word = \"gorge\"\n",
    "remaining_targets_arr = possible_targets_split.copy()\n",
    "counter = 5 # number of remaining guesses after first\n",
    "for guess in ['sprug','blawn','mythi','coved']:\n",
    "    hint = concise_hints(target_word,guess)\n",
    "    remaining_targets_arr = reduce_list(remaining_targets_arr,guess,hint)\n",
    "    print(\"Number of possible solutions remaining: \" + str(len(remaining_targets_arr)))\n",
    "    print(\"    Guesses left: \" + str(counter))\n",
    "    counter -= 1"
   ]
  },
  {
   "cell_type": "code",
   "execution_count": 15,
   "id": "b622eeff",
   "metadata": {},
   "outputs": [
    {
     "data": {
      "text/plain": [
       "array([['f', 'o', 'r', 'g', 'e'],\n",
       "       ['g', 'o', 'r', 'g', 'e']], dtype='<U1')"
      ]
     },
     "execution_count": 15,
     "metadata": {},
     "output_type": "execute_result"
    }
   ],
   "source": [
    "remaining_targets_arr"
   ]
  },
  {
   "cell_type": "markdown",
   "id": "7cef1ab8",
   "metadata": {},
   "source": [
    "### Now, guess the first word in the remaining, alphabetically-ordered array of possible solutions:"
   ]
  },
  {
   "cell_type": "code",
   "execution_count": 16,
   "id": "285d4832",
   "metadata": {},
   "outputs": [
    {
     "name": "stdout",
     "output_type": "stream",
     "text": [
      "Number of possible solutions remaining: 1\n",
      "    Guesses left: 1\n"
     ]
    }
   ],
   "source": [
    "# our fifth guess is now the first word in the remaining targets\n",
    "guess = remaining_targets_arr[0]\n",
    "hint = concise_hints(target_word,guess)\n",
    "remaining_targets_arr = reduce_list(remaining_targets_arr,guess,hint)\n",
    "print(\"Number of possible solutions remaining: \" + str(len(remaining_targets_arr)))\n",
    "print(\"    Guesses left: \" + str(counter))\n",
    "counter -= 1"
   ]
  },
  {
   "cell_type": "markdown",
   "id": "2c7d8b9c",
   "metadata": {},
   "source": [
    "Even though our fifth guess was still wrong in this case, it brought our list of remaining possible solutions down to just one word -- gorge -- which we can guess on our sixth try!"
   ]
  },
  {
   "cell_type": "markdown",
   "id": "aebdef1f",
   "metadata": {},
   "source": [
    "# Show that the method works on all 2315 possible target words:"
   ]
  },
  {
   "cell_type": "markdown",
   "id": "1bddf319",
   "metadata": {},
   "source": [
    "We can take what we just did and loop it across all target words, recording the number of tries it takes to reduce the list of possible solutions down to just one."
   ]
  },
  {
   "cell_type": "code",
   "execution_count": 17,
   "id": "bcd8f536",
   "metadata": {},
   "outputs": [],
   "source": [
    "num_remaining_arr = np.zeros((2315,5),dtype=int)\n",
    "\n",
    "# looping through all possible target words -- \n",
    "for idx, target_word in enumerate(possible_targets):\n",
    "    # initialized with the target word and full list of possible solutions\n",
    "    remaining_targets_arr = possible_targets_split.copy()\n",
    "    \n",
    "    # initialize list to track the number of remaining solution options after each guess\n",
    "    current_num_remaining = []\n",
    "    \n",
    "    # loop through the starter words\n",
    "    for guess in ['sprug','blawn','mythi','coved']:\n",
    "        # get the wordle hint for the guess\n",
    "        hint = concise_hints(target_word,guess)\n",
    "        \n",
    "        # reduce the pool of possible solutions\n",
    "        remaining_targets_arr = reduce_list(remaining_targets_arr,guess,hint)\n",
    "        \n",
    "        # record the number of remaining possible solutions\n",
    "        current_num_remaining.append(len(remaining_targets_arr))\n",
    "\n",
    "    # our fifth guess is now the first word in the remaining targets\n",
    "    guess = remaining_targets_arr[0]\n",
    "    \n",
    "    # get the wordle hint for the guess\n",
    "    hint = concise_hints(target_word,guess)\n",
    "    \n",
    "    # reduce the number of remaining guesses\n",
    "    remaining_targets_arr = reduce_list(remaining_targets_arr,guess,hint)\n",
    "    \n",
    "    # record the number of remaining possible solutions\n",
    "    current_num_remaining.append(len(remaining_targets_arr))\n",
    "    \n",
    "    # update the 2315-row array with the number of solutions left per-guess for this target word\n",
    "    num_remaining_arr[idx] = current_num_remaining"
   ]
  },
  {
   "cell_type": "code",
   "execution_count": 18,
   "id": "b7efd707",
   "metadata": {},
   "outputs": [
    {
     "data": {
      "text/plain": [
       "array([[569,   2,   1,   1,   1],\n",
       "       [100,   1,   1,   1,   1],\n",
       "       [569,   2,   1,   1,   1],\n",
       "       [569,  14,   2,   1,   1],\n",
       "       [569,  14,   2,   2,   1],\n",
       "       [351,  11,   2,   1,   1],\n",
       "       [569,  14,   1,   1,   1],\n",
       "       [569,   7,   5,   1,   1],\n",
       "       [569,  14,   4,   2,   1],\n",
       "       [351,  11,   1,   1,   1]])"
      ]
     },
     "execution_count": 18,
     "metadata": {},
     "output_type": "execute_result"
    }
   ],
   "source": [
    "num_remaining_arr[:10]"
   ]
  },
  {
   "cell_type": "markdown",
   "id": "c781ffc8",
   "metadata": {},
   "source": [
    "We are left with a 2315 x 5 array. Each row starts at the number of remaining possible solutions after the first guess. The numbers decrease across the columns as possible solutions are eliminated with each guess.  "
   ]
  },
  {
   "cell_type": "markdown",
   "id": "481be567",
   "metadata": {},
   "source": [
    "The fifth column tells us the number of remaining possible solutions after the fifth guess. **In order to say we have \"solved\" this Wordle puzzle in six guesses, this fifth column should equal one -- implying that there is only one possible choice for the sixth guess.**"
   ]
  },
  {
   "cell_type": "markdown",
   "id": "63c09f8c",
   "metadata": {},
   "source": [
    "Let's see if that is the case:"
   ]
  },
  {
   "cell_type": "code",
   "execution_count": 19,
   "id": "207cd301",
   "metadata": {},
   "outputs": [],
   "source": [
    "# grab the last column of the array\n",
    "last_column = num_remaining_arr[:, 4]"
   ]
  },
  {
   "cell_type": "code",
   "execution_count": 20,
   "id": "b89795b5",
   "metadata": {},
   "outputs": [],
   "source": [
    "# ask if values are greater than 1 (if True, then we failed to solve this word)\n",
    "failed_to_solve = last_column > 1"
   ]
  },
  {
   "cell_type": "code",
   "execution_count": 21,
   "id": "3acbc697",
   "metadata": {},
   "outputs": [
    {
     "data": {
      "text/plain": [
       "0"
      ]
     },
     "execution_count": 21,
     "metadata": {},
     "output_type": "execute_result"
    }
   ],
   "source": [
    "# count how many we failed to solve:\n",
    "np.sum(failed_to_solve)"
   ]
  },
  {
   "cell_type": "markdown",
   "id": "c48f569d",
   "metadata": {},
   "source": [
    "# There it is! This method gives the correct solution for every possible Wordle target word."
   ]
  },
  {
   "cell_type": "markdown",
   "id": "c7b21c8e",
   "metadata": {},
   "source": [
    "# While this method definitely ensures success, the distribution of number of required guesses is pretty lousy... Tradeoffs, I guess?"
   ]
  },
  {
   "cell_type": "code",
   "execution_count": 22,
   "id": "aa19eb3a",
   "metadata": {},
   "outputs": [],
   "source": [
    "num_guesses_required = (7 - np.sum(num_remaining_arr == 1,axis=1))"
   ]
  },
  {
   "cell_type": "code",
   "execution_count": 23,
   "id": "609d6430",
   "metadata": {},
   "outputs": [
    {
     "data": {
      "text/html": [
       "<div class=\"toyplot\" id=\"t8594ee6fb08d41caae985101f01bcb59\" style=\"text-align:center\"><svg class=\"toyplot-canvas-Canvas\" xmlns:toyplot=\"http://www.sandia.gov/toyplot\" xmlns:xlink=\"http://www.w3.org/1999/xlink\" xmlns=\"http://www.w3.org/2000/svg\" width=\"600px\" height=\"600px\" viewBox=\"0 0 600 600\" preserveAspectRatio=\"xMidYMid meet\" style=\"background-color:transparent;border-color:#292724;border-style:none;border-width:1.0;fill:rgb(16.1%,15.3%,14.1%);fill-opacity:1.0;font-family:Helvetica;font-size:12px;opacity:1.0;stroke:rgb(16.1%,15.3%,14.1%);stroke-opacity:1.0;stroke-width:1.0\" id=\"t758a9368fae64208bfb018390b0753d6\"><g class=\"toyplot-coordinates-Cartesian\" id=\"t1e84383531d84b1a9a40ea4eed74f714\"><clipPath id=\"t5025512db68844358c53b0ce88436af5\"><rect x=\"40.0\" y=\"40.0\" width=\"520.0\" height=\"520.0\"></rect></clipPath><g clip-path=\"url(#t5025512db68844358c53b0ce88436af5)\"><g class=\"toyplot-mark-BarMagnitudes\" style=\"stroke:rgb(100%,100%,100%);stroke-opacity:1.0;stroke-width:1.0\" id=\"t9593e06a16aa4bc9be2785b853da0151\"><g class=\"toyplot-Series\"><rect class=\"toyplot-Datum\" x=\"50.0\" y=\"536.5771812080537\" width=\"100.0\" height=\"13.42281879194627\" style=\"fill:rgb(40%,76.1%,64.7%);fill-opacity:1.0;opacity:1.0;stroke:rgb(100%,100%,100%);stroke-opacity:1.0;stroke-width:1.0\"></rect><rect class=\"toyplot-Datum\" x=\"150.0\" y=\"433.0297219558965\" width=\"100.0\" height=\"116.97027804410351\" style=\"fill:rgb(40%,76.1%,64.7%);fill-opacity:1.0;opacity:1.0;stroke:rgb(100%,100%,100%);stroke-opacity:1.0;stroke-width:1.0\"></rect><rect class=\"toyplot-Datum\" x=\"250.0\" y=\"160.2588686481304\" width=\"100.0\" height=\"389.7411313518696\" style=\"fill:rgb(40%,76.1%,64.7%);fill-opacity:1.0;opacity:1.0;stroke:rgb(100%,100%,100%);stroke-opacity:1.0;stroke-width:1.0\"></rect><rect class=\"toyplot-Datum\" x=\"350.0\" y=\"50.0\" width=\"100.0\" height=\"500.0\" style=\"fill:rgb(40%,76.1%,64.7%);fill-opacity:1.0;opacity:1.0;stroke:rgb(100%,100%,100%);stroke-opacity:1.0;stroke-width:1.0\"></rect><rect class=\"toyplot-Datum\" x=\"450.0\" y=\"460.3547459252157\" width=\"100.0\" height=\"89.6452540747843\" style=\"fill:rgb(40%,76.1%,64.7%);fill-opacity:1.0;opacity:1.0;stroke:rgb(100%,100%,100%);stroke-opacity:1.0;stroke-width:1.0\"></rect></g></g></g><g class=\"toyplot-coordinates-Axis\" id=\"t292e92e9c4c940d0b65901af193c816b\" transform=\"translate(50.0,550.0)translate(0,10.0)\"><line x1=\"0\" y1=\"0\" x2=\"500.0\" y2=\"0\" style=\"\"></line><g><g transform=\"translate(50.0,6)\"><text x=\"-2.78\" y=\"8.555\" style=\"fill:rgb(16.1%,15.3%,14.1%);fill-opacity:1.0;font-family:helvetica;font-size:10.0px;font-weight:normal;stroke:none;vertical-align:baseline;white-space:pre\">2</text></g><g transform=\"translate(250.0,6)\"><text x=\"-2.78\" y=\"8.555\" style=\"fill:rgb(16.1%,15.3%,14.1%);fill-opacity:1.0;font-family:helvetica;font-size:10.0px;font-weight:normal;stroke:none;vertical-align:baseline;white-space:pre\">4</text></g><g transform=\"translate(450.0,6)\"><text x=\"-2.78\" y=\"8.555\" style=\"fill:rgb(16.1%,15.3%,14.1%);fill-opacity:1.0;font-family:helvetica;font-size:10.0px;font-weight:normal;stroke:none;vertical-align:baseline;white-space:pre\">6</text></g></g><g transform=\"translate(250.0,22)\"><text x=\"-67.686\" y=\"10.265999999999998\" style=\"fill:rgb(16.1%,15.3%,14.1%);fill-opacity:1.0;font-family:helvetica;font-size:12.0px;font-weight:bold;stroke:none;vertical-align:baseline;white-space:pre\">Num Guesses Required</text></g><g class=\"toyplot-coordinates-Axis-coordinates\" style=\"visibility:hidden\" transform=\"\"><line x1=\"0\" x2=\"0\" y1=\"-3.0\" y2=\"4.5\" style=\"stroke:rgb(43.9%,50.2%,56.5%);stroke-opacity:1.0;stroke-width:1.0\"></line><text x=\"0\" y=\"-6\" style=\"alignment-baseline:alphabetic;fill:rgb(43.9%,50.2%,56.5%);fill-opacity:1.0;font-size:10px;font-weight:normal;stroke:none;text-anchor:middle\"></text></g></g><g class=\"toyplot-coordinates-Axis\" id=\"tc2161639b8694d0da9ea8fdd85b3109e\" transform=\"translate(50.0,550.0)rotate(-90.0)translate(0,-10.0)\"><line x1=\"0\" y1=\"0\" x2=\"500.0\" y2=\"0\" style=\"\"></line><g><g transform=\"translate(0.0,-6)\"><text x=\"-2.78\" y=\"-4.440892098500626e-16\" style=\"fill:rgb(16.1%,15.3%,14.1%);fill-opacity:1.0;font-family:helvetica;font-size:10.0px;font-weight:normal;stroke:none;vertical-align:baseline;white-space:pre\">0</text></g><g transform=\"translate(239.69319271332697,-6)\"><text x=\"-8.34\" y=\"-4.440892098500626e-16\" style=\"fill:rgb(16.1%,15.3%,14.1%);fill-opacity:1.0;font-family:helvetica;font-size:10.0px;font-weight:normal;stroke:none;vertical-align:baseline;white-space:pre\">500</text></g><g transform=\"translate(479.38638542665393,-6)\"><text x=\"-11.12\" y=\"-4.440892098500626e-16\" style=\"fill:rgb(16.1%,15.3%,14.1%);fill-opacity:1.0;font-family:helvetica;font-size:10.0px;font-weight:normal;stroke:none;vertical-align:baseline;white-space:pre\">1000</text></g></g><g class=\"toyplot-coordinates-Axis-coordinates\" style=\"visibility:hidden\" transform=\"\"><line x1=\"0\" x2=\"0\" y1=\"3.0\" y2=\"-4.5\" style=\"stroke:rgb(43.9%,50.2%,56.5%);stroke-opacity:1.0;stroke-width:1.0\"></line><text x=\"0\" y=\"6\" style=\"alignment-baseline:hanging;fill:rgb(43.9%,50.2%,56.5%);fill-opacity:1.0;font-size:10px;font-weight:normal;stroke:none;text-anchor:middle\"></text></g></g><g transform=\"translate(300.0,42.0)\"><text x=\"-177.366\" y=\"-4.823\" style=\"fill:rgb(16.1%,15.3%,14.1%);fill-opacity:1.0;font-family:helvetica;font-size:14.0px;font-weight:bold;stroke:none;vertical-align:baseline;white-space:pre\">Distribution of Number of Guesses Required to Solve</text></g></g></svg><div class=\"toyplot-behavior\"><script>(function()\n",
       "{\n",
       "var modules={};\n",
       "modules[\"toyplot/tables\"] = (function()\n",
       "    {\n",
       "        var tables = [];\n",
       "\n",
       "        var module = {};\n",
       "\n",
       "        module.set = function(owner, key, names, columns)\n",
       "        {\n",
       "            tables.push({owner: owner, key: key, names: names, columns: columns});\n",
       "        }\n",
       "\n",
       "        module.get = function(owner, key)\n",
       "        {\n",
       "            for(var i = 0; i != tables.length; ++i)\n",
       "            {\n",
       "                var table = tables[i];\n",
       "                if(table.owner != owner)\n",
       "                    continue;\n",
       "                if(table.key != key)\n",
       "                    continue;\n",
       "                return {names: table.names, columns: table.columns};\n",
       "            }\n",
       "        }\n",
       "\n",
       "        module.get_csv = function(owner, key)\n",
       "        {\n",
       "            var table = module.get(owner, key);\n",
       "            if(table != undefined)\n",
       "            {\n",
       "                var csv = \"\";\n",
       "                csv += table.names.join(\",\") + \"\\n\";\n",
       "                for(var i = 0; i != table.columns[0].length; ++i)\n",
       "                {\n",
       "                  for(var j = 0; j != table.columns.length; ++j)\n",
       "                  {\n",
       "                    if(j)\n",
       "                      csv += \",\";\n",
       "                    csv += table.columns[j][i];\n",
       "                  }\n",
       "                  csv += \"\\n\";\n",
       "                }\n",
       "                return csv;\n",
       "            }\n",
       "        }\n",
       "\n",
       "        return module;\n",
       "    })();\n",
       "modules[\"toyplot/root/id\"] = \"t8594ee6fb08d41caae985101f01bcb59\";\n",
       "modules[\"toyplot/root\"] = (function(root_id)\n",
       "    {\n",
       "        return document.querySelector(\"#\" + root_id);\n",
       "    })(modules[\"toyplot/root/id\"]);\n",
       "modules[\"toyplot/canvas/id\"] = \"t758a9368fae64208bfb018390b0753d6\";\n",
       "modules[\"toyplot/canvas\"] = (function(canvas_id)\n",
       "    {\n",
       "        return document.querySelector(\"#\" + canvas_id);\n",
       "    })(modules[\"toyplot/canvas/id\"]);\n",
       "modules[\"toyplot/menus/context\"] = (function(root, canvas)\n",
       "    {\n",
       "        var wrapper = document.createElement(\"div\");\n",
       "        wrapper.innerHTML = \"<ul class='toyplot-context-menu' style='background:#eee; border:1px solid #b8b8b8; border-radius:5px; box-shadow: 0px 0px 8px rgba(0%,0%,0%,0.25); margin:0; padding:3px 0; position:fixed; visibility:hidden;'></ul>\"\n",
       "        var menu = wrapper.firstChild;\n",
       "\n",
       "        root.appendChild(menu);\n",
       "\n",
       "        var items = [];\n",
       "\n",
       "        var ignore_mouseup = null;\n",
       "        function open_menu(e)\n",
       "        {\n",
       "            var show_menu = false;\n",
       "            for(var index=0; index != items.length; ++index)\n",
       "            {\n",
       "                var item = items[index];\n",
       "                if(item.show(e))\n",
       "                {\n",
       "                    item.item.style.display = \"block\";\n",
       "                    show_menu = true;\n",
       "                }\n",
       "                else\n",
       "                {\n",
       "                    item.item.style.display = \"none\";\n",
       "                }\n",
       "            }\n",
       "\n",
       "            if(show_menu)\n",
       "            {\n",
       "                ignore_mouseup = true;\n",
       "                menu.style.left = (e.clientX + 1) + \"px\";\n",
       "                menu.style.top = (e.clientY - 5) + \"px\";\n",
       "                menu.style.visibility = \"visible\";\n",
       "                e.stopPropagation();\n",
       "                e.preventDefault();\n",
       "            }\n",
       "        }\n",
       "\n",
       "        function close_menu()\n",
       "        {\n",
       "            menu.style.visibility = \"hidden\";\n",
       "        }\n",
       "\n",
       "        function contextmenu(e)\n",
       "        {\n",
       "            open_menu(e);\n",
       "        }\n",
       "\n",
       "        function mousemove(e)\n",
       "        {\n",
       "            ignore_mouseup = false;\n",
       "        }\n",
       "\n",
       "        function mouseup(e)\n",
       "        {\n",
       "            if(ignore_mouseup)\n",
       "            {\n",
       "                ignore_mouseup = false;\n",
       "                return;\n",
       "            }\n",
       "            close_menu();\n",
       "        }\n",
       "\n",
       "        function keydown(e)\n",
       "        {\n",
       "            if(e.key == \"Escape\" || e.key == \"Esc\" || e.keyCode == 27)\n",
       "            {\n",
       "                close_menu();\n",
       "            }\n",
       "        }\n",
       "\n",
       "        canvas.addEventListener(\"contextmenu\", contextmenu);\n",
       "        canvas.addEventListener(\"mousemove\", mousemove);\n",
       "        document.addEventListener(\"mouseup\", mouseup);\n",
       "        document.addEventListener(\"keydown\", keydown);\n",
       "\n",
       "        var module = {};\n",
       "        module.add_item = function(label, show, activate)\n",
       "        {\n",
       "            var wrapper = document.createElement(\"div\");\n",
       "            wrapper.innerHTML = \"<li class='toyplot-context-menu-item' style='background:#eee; color:#333; padding:2px 20px; list-style:none; margin:0; text-align:left;'>\" + label + \"</li>\"\n",
       "            var item = wrapper.firstChild;\n",
       "\n",
       "            items.push({item: item, show: show});\n",
       "\n",
       "            function mouseover()\n",
       "            {\n",
       "                this.style.background = \"steelblue\";\n",
       "                this.style.color = \"white\";\n",
       "            }\n",
       "\n",
       "            function mouseout()\n",
       "            {\n",
       "                this.style.background = \"#eee\";\n",
       "                this.style.color = \"#333\";\n",
       "            }\n",
       "\n",
       "            function choose_item(e)\n",
       "            {\n",
       "                close_menu();\n",
       "                activate();\n",
       "\n",
       "                e.stopPropagation();\n",
       "                e.preventDefault();\n",
       "            }\n",
       "\n",
       "            item.addEventListener(\"mouseover\", mouseover);\n",
       "            item.addEventListener(\"mouseout\", mouseout);\n",
       "            item.addEventListener(\"mouseup\", choose_item);\n",
       "            item.addEventListener(\"contextmenu\", choose_item);\n",
       "\n",
       "            menu.appendChild(item);\n",
       "        };\n",
       "        return module;\n",
       "    })(modules[\"toyplot/root\"],modules[\"toyplot/canvas\"]);\n",
       "modules[\"toyplot/io\"] = (function()\n",
       "    {\n",
       "        var module = {};\n",
       "        module.save_file = function(mime_type, charset, data, filename)\n",
       "        {\n",
       "            var uri = \"data:\" + mime_type + \";charset=\" + charset + \",\" + data;\n",
       "            uri = encodeURI(uri);\n",
       "\n",
       "            var link = document.createElement(\"a\");\n",
       "            if(typeof link.download != \"undefined\")\n",
       "            {\n",
       "              link.href = uri;\n",
       "              link.style = \"visibility:hidden\";\n",
       "              link.download = filename;\n",
       "\n",
       "              document.body.appendChild(link);\n",
       "              link.click();\n",
       "              document.body.removeChild(link);\n",
       "            }\n",
       "            else\n",
       "            {\n",
       "              window.open(uri);\n",
       "            }\n",
       "        };\n",
       "        return module;\n",
       "    })();\n",
       "modules[\"toyplot.coordinates.Axis\"] = (\n",
       "        function(canvas)\n",
       "        {\n",
       "            function sign(x)\n",
       "            {\n",
       "                return x < 0 ? -1 : x > 0 ? 1 : 0;\n",
       "            }\n",
       "\n",
       "            function mix(a, b, amount)\n",
       "            {\n",
       "                return ((1.0 - amount) * a) + (amount * b);\n",
       "            }\n",
       "\n",
       "            function log(x, base)\n",
       "            {\n",
       "                return Math.log(Math.abs(x)) / Math.log(base);\n",
       "            }\n",
       "\n",
       "            function in_range(a, x, b)\n",
       "            {\n",
       "                var left = Math.min(a, b);\n",
       "                var right = Math.max(a, b);\n",
       "                return left <= x && x <= right;\n",
       "            }\n",
       "\n",
       "            function inside(range, projection)\n",
       "            {\n",
       "                for(var i = 0; i != projection.length; ++i)\n",
       "                {\n",
       "                    var segment = projection[i];\n",
       "                    if(in_range(segment.range.min, range, segment.range.max))\n",
       "                        return true;\n",
       "                }\n",
       "                return false;\n",
       "            }\n",
       "\n",
       "            function to_domain(range, projection)\n",
       "            {\n",
       "                for(var i = 0; i != projection.length; ++i)\n",
       "                {\n",
       "                    var segment = projection[i];\n",
       "                    if(in_range(segment.range.bounds.min, range, segment.range.bounds.max))\n",
       "                    {\n",
       "                        if(segment.scale == \"linear\")\n",
       "                        {\n",
       "                            var amount = (range - segment.range.min) / (segment.range.max - segment.range.min);\n",
       "                            return mix(segment.domain.min, segment.domain.max, amount)\n",
       "                        }\n",
       "                        else if(segment.scale[0] == \"log\")\n",
       "                        {\n",
       "                            var amount = (range - segment.range.min) / (segment.range.max - segment.range.min);\n",
       "                            var base = segment.scale[1];\n",
       "                            return sign(segment.domain.min) * Math.pow(base, mix(log(segment.domain.min, base), log(segment.domain.max, base), amount));\n",
       "                        }\n",
       "                    }\n",
       "                }\n",
       "            }\n",
       "\n",
       "            var axes = {};\n",
       "\n",
       "            function display_coordinates(e)\n",
       "            {\n",
       "                var current = canvas.createSVGPoint();\n",
       "                current.x = e.clientX;\n",
       "                current.y = e.clientY;\n",
       "\n",
       "                for(var axis_id in axes)\n",
       "                {\n",
       "                    var axis = document.querySelector(\"#\" + axis_id);\n",
       "                    var coordinates = axis.querySelector(\".toyplot-coordinates-Axis-coordinates\");\n",
       "                    if(coordinates)\n",
       "                    {\n",
       "                        var projection = axes[axis_id];\n",
       "                        var local = current.matrixTransform(axis.getScreenCTM().inverse());\n",
       "                        if(inside(local.x, projection))\n",
       "                        {\n",
       "                            var domain = to_domain(local.x, projection);\n",
       "                            coordinates.style.visibility = \"visible\";\n",
       "                            coordinates.setAttribute(\"transform\", \"translate(\" + local.x + \")\");\n",
       "                            var text = coordinates.querySelector(\"text\");\n",
       "                            text.textContent = domain.toFixed(2);\n",
       "                        }\n",
       "                        else\n",
       "                        {\n",
       "                            coordinates.style.visibility= \"hidden\";\n",
       "                        }\n",
       "                    }\n",
       "                }\n",
       "            }\n",
       "\n",
       "            canvas.addEventListener(\"click\", display_coordinates);\n",
       "\n",
       "            var module = {};\n",
       "            module.show_coordinates = function(axis_id, projection)\n",
       "            {\n",
       "                axes[axis_id] = projection;\n",
       "            }\n",
       "\n",
       "            return module;\n",
       "        })(modules[\"toyplot/canvas\"]);\n",
       "(function(tables, context_menu, io, owner_id, key, label, names, columns, filename)\n",
       "        {\n",
       "            tables.set(owner_id, key, names, columns);\n",
       "\n",
       "            var owner = document.querySelector(\"#\" + owner_id);\n",
       "            function show_item(e)\n",
       "            {\n",
       "                return owner.contains(e.target);\n",
       "            }\n",
       "\n",
       "            function choose_item()\n",
       "            {\n",
       "                io.save_file(\"text/csv\", \"utf-8\", tables.get_csv(owner_id, key), filename + \".csv\");\n",
       "            }\n",
       "\n",
       "            context_menu.add_item(\"Save \" + label + \" as CSV\", show_item, choose_item);\n",
       "        })(modules[\"toyplot/tables\"],modules[\"toyplot/menus/context\"],modules[\"toyplot/io\"],\"t9593e06a16aa4bc9be2785b853da0151\",\"data\",\"bar data\",[\"left\", \"right\", \"baseline\", \"magnitude0\"],[[1.5, 2.5, 3.5, 4.5, 5.5], [2.5, 3.5, 4.5, 5.5, 6.5], [0.0, 0.0, 0.0, 0.0, 0.0], [28.0, 244.0, 813.0, 1043.0, 187.0]],\"toyplot\");\n",
       "(function(axis, axis_id, projection)\n",
       "        {\n",
       "            axis.show_coordinates(axis_id, projection);\n",
       "        })(modules[\"toyplot.coordinates.Axis\"],\"t292e92e9c4c940d0b65901af193c816b\",[{\"domain\": {\"bounds\": {\"max\": Infinity, \"min\": -Infinity}, \"max\": 6.5, \"min\": 1.5}, \"range\": {\"bounds\": {\"max\": Infinity, \"min\": -Infinity}, \"max\": 500.0, \"min\": 0.0}, \"scale\": \"linear\"}]);\n",
       "(function(axis, axis_id, projection)\n",
       "        {\n",
       "            axis.show_coordinates(axis_id, projection);\n",
       "        })(modules[\"toyplot.coordinates.Axis\"],\"tc2161639b8694d0da9ea8fdd85b3109e\",[{\"domain\": {\"bounds\": {\"max\": Infinity, \"min\": -Infinity}, \"max\": 1043.0, \"min\": 0.0}, \"range\": {\"bounds\": {\"max\": Infinity, \"min\": -Infinity}, \"max\": 500.0, \"min\": 0.0}, \"scale\": \"linear\"}]);\n",
       "})();</script></div></div>"
      ]
     },
     "metadata": {},
     "output_type": "display_data"
    }
   ],
   "source": [
    "toyplot.bars((np.histogram(num_guesses_required,bins=5)[0],\n",
    "              [1.5,2.5,3.5,4.5,5.5,6.5]),\n",
    "             xlabel=\"Num Guesses Required\",\n",
    "             label=\"Distribution of Number of Guesses Required to Solve\"\n",
    "            );"
   ]
  },
  {
   "cell_type": "markdown",
   "id": "37d1dccc",
   "metadata": {},
   "source": [
    "# 4 or 5 guesses are usually required... But never more than 6!"
   ]
  }
 ],
 "metadata": {
  "kernelspec": {
   "display_name": "Python 3 (ipykernel)",
   "language": "python",
   "name": "python3"
  },
  "language_info": {
   "codemirror_mode": {
    "name": "ipython",
    "version": 3
   },
   "file_extension": ".py",
   "mimetype": "text/x-python",
   "name": "python",
   "nbconvert_exporter": "python",
   "pygments_lexer": "ipython3",
   "version": "3.8.5"
  }
 },
 "nbformat": 4,
 "nbformat_minor": 5
}
